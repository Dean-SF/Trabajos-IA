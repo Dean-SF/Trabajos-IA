{
  "nbformat": 4,
  "nbformat_minor": 0,
  "metadata": {
    "colab": {
      "provenance": [],
      "include_colab_link": true
    },
    "kernelspec": {
      "name": "python3",
      "display_name": "Python 3"
    },
    "language_info": {
      "name": "python"
    }
  },
  "cells": [
    {
      "cell_type": "markdown",
      "metadata": {
        "id": "view-in-github",
        "colab_type": "text"
      },
      "source": [
        "<a href=\"https://colab.research.google.com/github/Dean-SF/Trabajos-IA/blob/main/Test/Copy_of_TC01_B%C3%BAsquedas_.ipynb\" target=\"_parent\"><img src=\"https://colab.research.google.com/assets/colab-badge.svg\" alt=\"Open In Colab\"/></a>"
      ]
    },
    {
      "cell_type": "markdown",
      "source": [
        "**Instituto Tecnológico de Costa Rica - TEC**\n",
        "\n",
        "***Inteligencia Artificial***\n",
        "\n",
        "*Docente: Kenneth Obando Rodríguez*\n",
        "\n",
        "---\n",
        "# Trabajo Corto 1: Algoritmos A* y Min-max\n",
        "---\n",
        "Estudiantes:\n",
        "- Estudiante 1AAAAAAAA\n",
        "- Estudiante 2\n",
        "- Estudiante 3\n",
        "\n",
        "Link del Cuaderno (recuerde configurar el acceso a público):\n",
        "\n",
        "    \n",
        "- [Link de su respuesta](https://colab.research.google.com/drive/1HVrTShebzVmNDywNEJraPbadFnrgzwt0?usp=sharing)\n",
        "\n",
        "    **Nota:** Este trabajo tiene como objetivo promover la comprensión de la complejidad computacional y su importancia en la elección de algoritmos. Los alumnos deben evitar copiar y pegar directamente información de fuentes externas, y en su lugar, demostrar su propio análisis y comprensión.\n",
        "\n",
        "Referencia:\n",
        "https://towardsdatascience.com/a-python-module-for-maze-search-algorithms-64e7d1297c96\n",
        "\n",
        "### Entrega\n",
        "Debe entregar un archivo comprimido por el TecDigital, incluyendo un documento pdf con los resultados de los experimentos y pruebas. La fecha de entrega es el jueves 22 de febrero, antes de las 10:00pm.   "
      ],
      "metadata": {
        "id": "4eNq4lCSSQWn"
      }
    },
    {
      "cell_type": "markdown",
      "source": [
        "Instrucciones:\n",
        "\n",
        "Las alternativas se rifarán en clase utilizando números aleatorios. Deberá realizar la asignación propuesta. Si realiza ambos ejercicios, recibirá 20 puntos en **la nota porcentual de la actividad**, para aplicar a la totalidad de los puntos extra es necesario que ambas actividades se completen al 100%\n"
      ],
      "metadata": {
        "id": "XmAGdF_-Xhj1"
      }
    },
    {
      "cell_type": "markdown",
      "source": [
        "## Parte 1: Búsqueda A*\n",
        "\n",
        "### Pasos\n",
        "1. Instala PyAmaze utilizando el siguiente comando: `pip install pyamaze`.\n",
        "2. Crea un laberinto utilizando las funciones proporcionadas por PyAmaze. Puedes definir el tamaño del laberinto y colocar obstáculos de manera aleatoria.\n",
        "3. Implementa el algoritmo A* para encontrar el camino más corto entre un punto de inicio y un punto de destino en el laberinto.\n",
        "4. Utiliza las funciones proporcionadas por PyAmaze para visualizar el laberinto y el camino calculado por el algoritmo A*.\n",
        "5. El camino calculado debe ser resaltado de manera visual para que sea claramente visible en el laberinto.\n",
        "\n",
        "### Pruebas y Experimentación:\n",
        "6. Realiza pruebas utilizando diferentes configuraciones de laberinto, puntos de inicio y puntos de destino, registra los resultados y observaciones de cada prueba, incluyendo el tiempo de ejecución y la longitud del camino encontrado."
      ],
      "metadata": {
        "id": "Qtm4D6XMV4CB"
      }
    },
    {
      "cell_type": "markdown",
      "source": [
        "## Parte 2: Búsquedas Adversiales"
      ],
      "metadata": {
        "id": "5_b04PhwTF1b"
      }
    },
    {
      "cell_type": "markdown",
      "source": [
        "Actividad inspirada en la entrada de blog: [The MinMax Algorithm](https://medium.com/@carsten.friedrich/part-2-the-min-max-algorithm-ae1489509660)\n",
        "\n",
        "### A. Implementación de Minimax\n",
        "\n",
        "1. Implementa las reglas y mecánicas del juego Tres en Raya. Necesitarás funciones para inicializar el estado del juego, realizar movimientos, verificar condiciones de fin de juego y determinar los movimientos legales disponibles.\n",
        "\n",
        "2. Implementa el algoritmo Minimax. Tu función de Minimax debe tomar como entrada el estado actual del juego y devolver el mejor movimiento para el jugador actual.\n",
        "\n",
        "3. Implementa una función para evaluar el estado del juego. Esta función debe devolver un valor numérico que indique la deseabilidad del estado actual del juego para el jugador activo. Un valor positivo indica una ventaja para el jugador activo, mientras que un valor negativo indica una ventaja para el oponente.\n",
        "\n",
        "4. Agrega un factor de aleatoriedad al juego: si el algoritmo puede tener dos caminos con el mismo puntaje, escoger aleatoriamente entre cada uno.\n",
        "\n",
        "5. Investiga la variante Alpha-Beta para mejorar el rendimiento del algoritmo MinMax, como dato curioso, esta variante se utilizó en el algoritmo de DeepBlue que ganó contra Kasparov, el mejor ajedrecista de la historia.\n",
        "\n",
        "### B. Prueba contra un Oponente Aleatorio (Opcional)\n",
        "\n",
        "6. Implementa un oponente aleatorio. El oponente aleatorio debe realizar movimientos legales al azar sin considerar el estado del juego.\n",
        "7. Configura un bucle de simulación para jugar varios juegos. En cada juego, alterna entre el algoritmo Minimax y el oponente aleatorio para realizar movimientos.\n",
        "8. Realiza un seguimiento de los resultados de los juegos (ganar/perder/empatar) para el algoritmo Minimax. Prueba generando 500 juegos y obtenga estadísticas generales sobre el funcionamiento del algoritmo.\n",
        "\n",
        "Estilo de Juego   | P1 Gana | P2 Gana |  Empate\n",
        "------------------|---------|---------|---------\n",
        "Min Max — Random  |      %  |       %  |   %\n",
        "Random — Min Max  |      %  |       %  |   %\n",
        "Min Max — Min Max |      %  |       %  |   %\n",
        "\n",
        "\n"
      ],
      "metadata": {
        "id": "npU2gIxLTHwO"
      }
    }
  ]
}